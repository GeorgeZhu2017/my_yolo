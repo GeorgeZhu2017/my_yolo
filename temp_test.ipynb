{
 "cells": [
  {
   "cell_type": "code",
   "execution_count": null,
   "id": "3c11d464",
   "metadata": {},
   "outputs": [],
   "source": [
    "%load_ext autoreload\n",
    "%autoreload 2\n",
    "import torch\n",
    "import numpy as np\n",
    "from PIL import Image\n",
    "from PIL import ImageDraw, ImageFont\n",
    "from utils.utils import cvtColor\n",
    "from utils.dataloader import YoloDataset\n",
    "from yolo import YOLO\n"
   ]
  },
  {
   "cell_type": "code",
   "execution_count": null,
   "id": "f0d14dec",
   "metadata": {},
   "outputs": [],
   "source": [
    "dataset_path = './dataset/apples/'\n",
    "anchors_path = 'model_data/yolo_anchors.txt'\n",
    "model_path = 'saved_models/ep048-loss9.262-val_loss5.039.pth'\n",
    "classes_path = 'model_data/my_classes.txt'\n",
    "    \n",
    "num_classes = 2\n",
    "input_shape = [416, 416]\n",
    "anchors_mask = [[6, 7, 8], [3, 4, 5], [0, 1, 2]]\n",
    "with open(dataset_path + 'sets/train.txt', 'r') as file:\n",
    "    train_splits = file.read().splitlines()\n",
    "with open(dataset_path + 'sets/val.txt', 'r') as file:\n",
    "    val_splits = file.read().splitlines()    \n",
    "print(len(train_splits), len(val_splits))\n",
    "yolo_model = YOLO(model_path = model_path, classes_path = classes_path)"
   ]
  },
  {
   "cell_type": "code",
   "execution_count": null,
   "id": "e3ba9ba5",
   "metadata": {},
   "outputs": [],
   "source": [
    "def draw_image(image, boxes):\n",
    "    for i, box in enumerate(boxes):\n",
    "        top, left, bottom, right = box\n",
    "        top     = max(0, np.floor(top).astype('int32'))\n",
    "        left    = max(0, np.floor(left).astype('int32'))\n",
    "        bottom  = min(image.size[1], np.floor(bottom).astype('int32'))\n",
    "        right   = min(image.size[0], np.floor(right).astype('int32'))\n",
    "\n",
    "        draw = ImageDraw.Draw(image)\n",
    "        draw.rectangle([left, top, right, bottom])\n",
    "        del draw\n",
    "    return image           \n"
   ]
  },
  {
   "cell_type": "code",
   "execution_count": null,
   "id": "badb3f0c",
   "metadata": {},
   "outputs": [],
   "source": [
    "#for split in train_splits:\n",
    "split = val_splits[5]\n",
    "image = Image.open(dataset_path + 'images/' + split + '.png')\n",
    "image = cvtColor(image)\n",
    "print(image.size)\n",
    "with open(dataset_path + 'annotations/' + split+ '.csv', 'r') as file:\n",
    "    annotations = np.loadtxt(file, delimiter = ',', skiprows = 1)\n",
    "boxes = np.zeros([len(annotations), 4])\n",
    "for i, anno in enumerate(annotations):\n",
    "    boxes[i, 0] = anno[2] - anno[3]\n",
    "    boxes[i, 1] = anno[1] - anno[3]\n",
    "    boxes[i, 2] = anno[2] + anno[3]\n",
    "    boxes[i, 3] = anno[1] + anno[3]   "
   ]
  },
  {
   "cell_type": "code",
   "execution_count": null,
   "id": "fbfbed33",
   "metadata": {},
   "outputs": [],
   "source": [
    "draw_image(image, boxes)"
   ]
  },
  {
   "cell_type": "code",
   "execution_count": null,
   "id": "585cf732",
   "metadata": {},
   "outputs": [],
   "source": [
    "image = Image.open(dataset_path + 'images/' + split + '.png')\n",
    "new_image, outputs = yolo_model.detect_image(image)"
   ]
  },
  {
   "cell_type": "code",
   "execution_count": null,
   "id": "d0d75d19",
   "metadata": {},
   "outputs": [],
   "source": [
    "new_image"
   ]
  }
 ],
 "metadata": {
  "kernelspec": {
   "display_name": "Python 3 (ipykernel)",
   "language": "python",
   "name": "python3"
  },
  "language_info": {
   "codemirror_mode": {
    "name": "ipython",
    "version": 3
   },
   "file_extension": ".py",
   "mimetype": "text/x-python",
   "name": "python",
   "nbconvert_exporter": "python",
   "pygments_lexer": "ipython3",
   "version": "3.7.12"
  }
 },
 "nbformat": 4,
 "nbformat_minor": 5
}
